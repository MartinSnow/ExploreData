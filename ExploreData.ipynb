{
 "cells": [
  {
   "cell_type": "markdown",
   "metadata": {},
   "source": [
    "# 分析泰坦尼克号的数据\n",
    "\n",
    "## 哪些因素会让船上的人生存率更高\n",
    "\n",
    "### 重点分析四个因素：船票等级（Pclass），性别（Sex），年龄（Age）以及是否有人陪伴（SibSp or Parch）"
   ]
  },
  {
   "cell_type": "code",
   "execution_count": 1,
   "metadata": {},
   "outputs": [],
   "source": [
    "import matplotlib.pyplot as plt\n",
    "import numpy as np\n",
    "import pandas as pd\n",
    "import seaborn as sns"
   ]
  },
  {
   "cell_type": "code",
   "execution_count": 2,
   "metadata": {},
   "outputs": [],
   "source": [
    "titanic_df = pd.read_csv('titanic-data.csv')"
   ]
  },
  {
   "cell_type": "code",
   "execution_count": null,
   "metadata": {},
   "outputs": [],
   "source": []
  },
  {
   "cell_type": "markdown",
   "metadata": {},
   "source": [
    "### 一、分析一下男性和女性的生存情况"
   ]
  },
  {
   "cell_type": "code",
   "execution_count": 3,
   "metadata": {},
   "outputs": [
    {
     "name": "stdout",
     "output_type": "stream",
     "text": [
      "Sex\n",
      "female    233\n",
      "male      109\n",
      "Name: Survived, dtype: int64\n",
      "Populating the interactive namespace from numpy and matplotlib\n"
     ]
    },
    {
     "data": {
      "text/plain": [
       "<matplotlib.axes._subplots.AxesSubplot at 0x10b932750>"
      ]
     },
     "execution_count": 3,
     "metadata": {},
     "output_type": "execute_result"
    },
    {
     "data": {
      "image/png": "[encoded data removed]",
      "text/plain": [
       "<matplotlib.figure.Figure at 0x10b9256d0>"
      ]
     },
     "metadata": {},
     "output_type": "display_data"
    }
   ],
   "source": [
    "survived_sex = titanic_df.groupby('Sex')['Survived'].sum()\n",
    "print survived_sex\n",
    "%pylab inline\n",
    "survived_sex.plot(kind='bar')"
   ]
  },
  {
   "cell_type": "markdown",
   "metadata": {},
   "source": [
    "### 可以看出男性幸存数为109，女性幸存数为233，女性幸存人数几乎是男性的2倍"
   ]
  },
  {
   "cell_type": "markdown",
   "metadata": {},
   "source": [
    "### 二、分析船票等级与生存情况的关系"
   ]
  },
  {
   "cell_type": "code",
   "execution_count": 4,
   "metadata": {},
   "outputs": [
    {
     "name": "stdout",
     "output_type": "stream",
     "text": [
      "Pclass\n",
      "1    0.629630\n",
      "2    0.472826\n",
      "3    0.242363\n",
      "dtype: float64\n"
     ]
    },
    {
     "data": {
      "text/plain": [
       "<matplotlib.axes._subplots.AxesSubplot at 0x10bbaf950>"
      ]
     },
     "execution_count": 4,
     "metadata": {},
     "output_type": "execute_result"
    },
    {
     "data": {
      "image/png": "[encoded data removed]",
      "text/plain": [
       "<matplotlib.figure.Figure at 0x10bba3690>"
      ]
     },
     "metadata": {},
     "output_type": "display_data"
    }
   ],
   "source": [
    "survived_Pclass = titanic_df.groupby('Pclass')['Survived'].sum() #购买不同等级船票的乘客中存活的人数\n",
    "sum_Pclass = titanic_df.groupby('Pclass')['Name'].count() #购买不同等级船票的乘客总人数\n",
    "rate_Pclass = survived_Pclass/sum_Pclass #购买不同等级船票的乘客的幸存比例\n",
    "print rate_Pclass\n",
    "rate_Pclass.plot(kind='bar')"
   ]
  },
  {
   "cell_type": "markdown",
   "metadata": {},
   "source": [
    "### 可以看出头等舱的乘客存活比例最高，为0.629630"
   ]
  },
  {
   "cell_type": "markdown",
   "metadata": {},
   "source": [
    "### 三、分析乘客年龄与幸存情况的关系"
   ]
  },
  {
   "cell_type": "code",
   "execution_count": 5,
   "metadata": {},
   "outputs": [],
   "source": [
    "titanic_age = titanic_df.dropna(subset=['Age'])  #删除在Age列中含有空值的行"
   ]
  },
  {
   "cell_type": "code",
   "execution_count": 6,
   "metadata": {},
   "outputs": [
    {
     "name": "stdout",
     "output_type": "stream",
     "text": [
      "80.0\n",
      "0.42\n"
     ]
    }
   ],
   "source": [
    "print titanic_age['Age'].max()\n",
    "print titanic_age['Age'].min()"
   ]
  },
  {
   "cell_type": "code",
   "execution_count": 7,
   "metadata": {},
   "outputs": [],
   "source": [
    "def convert_age(age):\n",
    "    if age <= 80 and age >= 70:\n",
    "        return '70-80'\n",
    "    elif age < 70 and age >= 60:\n",
    "        return '60-69'\n",
    "    elif age < 60 and age >= 50:\n",
    "        return '50-59'\n",
    "    elif age < 50 and age >= 40:\n",
    "        return '40-49'\n",
    "    elif age < 40 and age >= 30:\n",
    "        return '30-39'\n",
    "    elif age < 30 and age >= 20:\n",
    "        return '20-29'\n",
    "    elif age < 20 and age >= 10:\n",
    "        return '10-19'\n",
    "    else:\n",
    "        return '0-9'"
   ]
  },
  {
   "cell_type": "code",
   "execution_count": 8,
   "metadata": {},
   "outputs": [
    {
     "data": {
      "text/plain": [
       "pandas.core.series.Series"
      ]
     },
     "execution_count": 8,
     "metadata": {},
     "output_type": "execute_result"
    }
   ],
   "source": [
    "converted_age = titanic_age['Age'].apply(convert_age)  #将乘客年龄分为不同的区间\n",
    "type(converted_age)"
   ]
  },
  {
   "cell_type": "code",
   "execution_count": 9,
   "metadata": {},
   "outputs": [
    {
     "name": "stderr",
     "output_type": "stream",
     "text": [
      "/Library/Frameworks/Python.framework/Versions/2.7/lib/python2.7/site-packages/ipykernel_launcher.py:1: SettingWithCopyWarning: \n",
      "A value is trying to be set on a copy of a slice from a DataFrame.\n",
      "Try using .loc[row_indexer,col_indexer] = value instead\n",
      "\n",
      "See the caveats in the documentation: http://pandas.pydata.org/pandas-docs/stable/indexing.html#indexing-view-versus-copy\n",
      "  \"\"\"Entry point for launching an IPython kernel.\n"
     ]
    }
   ],
   "source": [
    "titanic_age['converted_age'] = converted_age"
   ]
  },
  {
   "cell_type": "code",
   "execution_count": 10,
   "metadata": {
    "scrolled": false
   },
   "outputs": [
    {
     "name": "stdout",
     "output_type": "stream",
     "text": [
      "converted_age\n",
      "0-9      0.612903\n",
      "10-19    0.401961\n",
      "20-29    0.350000\n",
      "30-39    0.437126\n",
      "40-49    0.382022\n",
      "50-59    0.416667\n",
      "60-69    0.315789\n",
      "70-80    0.142857\n",
      "Name: Survived, dtype: float64\n",
      "<class 'pandas.core.series.Series'>\n",
      "<class 'pandas.core.series.Series'>\n"
     ]
    },
    {
     "data": {
      "text/plain": [
       "<matplotlib.axes._subplots.AxesSubplot at 0x10bc3c550>"
      ]
     },
     "execution_count": 10,
     "metadata": {},
     "output_type": "execute_result"
    },
    {
     "data": {
      "image/png": "[encoded data removed]",
      "text/plain": [
       "<matplotlib.figure.Figure at 0x10bc0c090>"
      ]
     },
     "metadata": {},
     "output_type": "display_data"
    }
   ],
   "source": [
    "survived_on_age = titanic_age.groupby('converted_age')['Survived'].sum()  #不同年龄区间幸存人数\n",
    "sum_on_age = titanic_age.groupby('converted_age')['Survived'].count()  #不同年龄区间总人数\n",
    "rate_on_age = survived_on_age / sum_on_age  #不同年龄区间得幸存率\n",
    "print rate_on_age\n",
    "print type(rate_on_age)\n",
    "rate = pd.Series(rate_on_age)\n",
    "print type(rate)\n",
    "rate_on_age.plot()"
   ]
  },
  {
   "cell_type": "code",
   "execution_count": 11,
   "metadata": {},
   "outputs": [],
   "source": [
    "titanic_age_range = titanic_age.groupby('converted_age').sum().reset_index()  #将依据年龄区间分组的数据重新生成DataFrame"
   ]
  },
  {
   "cell_type": "code",
   "execution_count": 12,
   "metadata": {},
   "outputs": [],
   "source": [
    "titanic_age_range = titanic_age_range.drop(['PassengerId', 'Pclass', 'Age', 'Fare'], axis=1)  #删除不需要的列"
   ]
  },
  {
   "cell_type": "code",
   "execution_count": 13,
   "metadata": {},
   "outputs": [],
   "source": [
    "array_rate = rate_on_age.as_matrix()  #Series to Array"
   ]
  },
  {
   "cell_type": "code",
   "execution_count": 14,
   "metadata": {},
   "outputs": [],
   "source": [
    "from pandas import Series, DataFrame\n",
    "survived_rate = DataFrame(array_rate, columns=['Survived_rate'])  #Array to DataFrame"
   ]
  },
  {
   "cell_type": "code",
   "execution_count": 15,
   "metadata": {
    "scrolled": false
   },
   "outputs": [],
   "source": [
    "titanic_age_range = titanic_age_range.merge(survived_rate, left_index=True, right_index=True)  #添加幸存率"
   ]
  },
  {
   "cell_type": "code",
   "execution_count": 16,
   "metadata": {},
   "outputs": [
    {
     "name": "stdout",
     "output_type": "stream",
     "text": [
      "  converted_age  Survived  SibSp  Parch  Survived_rate\n",
      "0           0-9        38    115     87       0.612903\n",
      "1         10-19        41     68     48       0.401961\n",
      "2         20-29        77     71     55       0.350000\n",
      "3         30-39        73     59     55       0.437126\n",
      "4         40-49        34     33     42       0.382022\n",
      "5         50-59        20     14     13       0.416667\n",
      "6         60-69         6      5      7       0.315789\n",
      "7         70-80         1      1      1       0.142857\n"
     ]
    }
   ],
   "source": [
    "print titanic_age_range"
   ]
  },
  {
   "cell_type": "code",
   "execution_count": 17,
   "metadata": {},
   "outputs": [
    {
     "data": {
      "text/plain": [
       "<matplotlib.collections.PathCollection at 0x10be1b0d0>"
      ]
     },
     "execution_count": 17,
     "metadata": {},
     "output_type": "execute_result"
    },
    {
     "data": {
      "image/png": "[encoded data removed]",
      "text/plain": [
       "<matplotlib.figure.Figure at 0x10bd46dd0>"
      ]
     },
     "metadata": {},
     "output_type": "display_data"
    }
   ],
   "source": [
    "plt.scatter(titanic_age_range['converted_age'], titanic_age_range['Parch'], s=titanic_age_range['Survived_rate']*1000)"
   ]
  },
  {
   "cell_type": "markdown",
   "metadata": {},
   "source": [
    "### 9岁以下儿童幸存率最高，10岁至59岁的人幸存率基本一致，60岁以上的人幸存率较低"
   ]
  },
  {
   "cell_type": "markdown",
   "metadata": {},
   "source": [
    "### 乘客年龄及船票价格的相关性"
   ]
  },
  {
   "cell_type": "code",
   "execution_count": 18,
   "metadata": {},
   "outputs": [],
   "source": [
    "# 计算相关性的函数\n",
    "def correlation(x, y):\n",
    "    x_standardized = (x - x.mean())/x.std(ddof=0)\n",
    "    y_standardized = (y - y.mean())/y.std(ddof=0)\n",
    "    return (x_standardized * y_standardized).mean()"
   ]
  },
  {
   "cell_type": "code",
   "execution_count": 19,
   "metadata": {},
   "outputs": [],
   "source": [
    "Pclass = titanic_age['Fare']\n",
    "Age = titanic_age['Age']"
   ]
  },
  {
   "cell_type": "code",
   "execution_count": 20,
   "metadata": {},
   "outputs": [
    {
     "data": {
      "text/plain": [
       "0.096066691769038884"
      ]
     },
     "execution_count": 20,
     "metadata": {},
     "output_type": "execute_result"
    }
   ],
   "source": [
    "correlation(Pclass, Age)"
   ]
  },
  {
   "cell_type": "markdown",
   "metadata": {},
   "source": [
    "### 乘客年龄和船票价格为正相关，但相关性不大"
   ]
  },
  {
   "cell_type": "code",
   "execution_count": null,
   "metadata": {},
   "outputs": [],
   "source": []
  }
 ],
 "metadata": {
  "kernelspec": {
   "display_name": "Python 2",
   "language": "python",
   "name": "python2"
  },
  "language_info": {
   "codemirror_mode": {
    "name": "ipython",
    "version": 2
   },
   "file_extension": ".py",
   "mimetype": "text/x-python",
   "name": "python",
   "nbconvert_exporter": "python",
   "pygments_lexer": "ipython2",
   "version": "2.7.14"
  }
 },
 "nbformat": 4,
 "nbformat_minor": 2
}
